{
 "cells": [
  {
   "cell_type": "code",
   "execution_count": 199,
   "id": "17fc7898",
   "metadata": {},
   "outputs": [],
   "source": [
    "import numpy as np\n",
    "import tensorflow as tf\n",
    "from sklearn.utils.class_weight import compute_class_weight\n",
    "from sklearn.metrics import classification_report, confusion_matrix\n",
    "import matplotlib.pyplot as plt\n",
    "import seaborn as sns\n",
    "from tensorflow.keras.models import Sequential\n",
    "from tensorflow.keras.layers import Conv2D, MaxPooling2D, Dropout, Flatten, Dense, BatchNormalization\n",
    "from tensorflow.keras.preprocessing.image import ImageDataGenerator\n",
    "from tensorflow.keras.optimizers import Adam\n",
    "from tensorflow.keras.callbacks import EarlyStopping\n"
   ]
  },
  {
   "cell_type": "code",
   "execution_count": 200,
   "id": "a324fece",
   "metadata": {},
   "outputs": [],
   "source": [
    "\n",
    "# Image dimensions and number of classes\n",
    "img_height, img_width = 128, 128\n",
    "num_classes = 6  # cardboard, glass, metal, paper, plastic, trash\n",
    "\n",
    "# Dataset paths\n",
    "train_dir = r\"C:/Users/Begad/.cache/kagglehub/datasets/asdasdasasdas/garbage-classification/versions/2/processed/train\"\n",
    "val_dir = r\"C:/Users/Begad/.cache/kagglehub/datasets/asdasdasasdas/garbage-classification/versions/2/processed/validation\"\n",
    "\n",
    "# Data augmentation\n",
    "train_datagen = ImageDataGenerator(\n",
    "    rescale=1./255,\n",
    "    rotation_range=15,\n",
    "    width_shift_range=0.1,\n",
    "    height_shift_range=0.1,\n",
    "    zoom_range=0.1,\n",
    "    horizontal_flip=True\n",
    ")\n",
    "\n",
    "val_datagen = ImageDataGenerator(rescale=1./255)\n"
   ]
  },
  {
   "cell_type": "code",
   "execution_count": 201,
   "id": "65c553ed",
   "metadata": {},
   "outputs": [
    {
     "name": "stdout",
     "output_type": "stream",
     "text": [
      "Found 1766 images belonging to 6 classes.\n",
      "Found 377 images belonging to 6 classes.\n"
     ]
    }
   ],
   "source": [
    "\n",
    "# Load data\n",
    "train_generator = train_datagen.flow_from_directory(\n",
    "    train_dir,\n",
    "    target_size=(img_height, img_width),\n",
    "    batch_size=32,\n",
    "    class_mode='sparse'\n",
    ")\n",
    "\n",
    "val_generator = val_datagen.flow_from_directory(\n",
    "    val_dir,\n",
    "    target_size=(img_height, img_width),\n",
    "    batch_size=32,\n",
    "    class_mode='sparse',\n",
    "    shuffle=False\n",
    ")\n"
   ]
  },
  {
   "cell_type": "code",
   "execution_count": 202,
   "id": "ce6e4b9b",
   "metadata": {},
   "outputs": [],
   "source": [
    "\n",
    "# Compute class weights\n",
    "y_train = train_generator.classes\n",
    "class_weights = compute_class_weight(\n",
    "    class_weight='balanced',\n",
    "    classes=np.unique(y_train),\n",
    "    y=y_train\n",
    ")\n",
    "class_weights_dict = dict(enumerate(class_weights))\n"
   ]
  },
  {
   "cell_type": "code",
   "execution_count": 203,
   "id": "0e38fe57",
   "metadata": {},
   "outputs": [],
   "source": [
    "\n",
    "# Build CNN model\n",
    "model = Sequential([\n",
    "    Conv2D(32, (3,3), activation='relu', input_shape=(img_height, img_width, 3)),\n",
    "    BatchNormalization(),\n",
    "    MaxPooling2D(2,2),\n",
    "\n",
    "    Conv2D(64, (3,3), activation='relu'),\n",
    "    BatchNormalization(),\n",
    "    MaxPooling2D(2,2),\n",
    "\n",
    "    Conv2D(128, (3,3), activation='relu'),\n",
    "    BatchNormalization(),\n",
    "    MaxPooling2D(2,2),\n",
    "\n",
    "    Conv2D(256, (3,3), activation='relu'),\n",
    "    BatchNormalization(),\n",
    "    MaxPooling2D(2,2),\n",
    "    \n",
    "    \n",
    "    Flatten(),\n",
    "    Dense(256, activation='relu'),\n",
    "    Dropout(0.4),\n",
    "    Dense(num_classes, activation='softmax')\n",
    "\n",
    "\n",
    "])\n"
   ]
  },
  {
   "cell_type": "code",
   "execution_count": 204,
   "id": "467369e3",
   "metadata": {},
   "outputs": [],
   "source": [
    "\n",
    "# Compile model\n",
    "model.compile(\n",
    "    optimizer=Adam(learning_rate=0.0003),\n",
    "    loss='sparse_categorical_crossentropy',\n",
    "    metrics=['accuracy']\n",
    ")\n"
   ]
  },
  {
   "cell_type": "code",
   "execution_count": 205,
   "id": "b2d6b932",
   "metadata": {},
   "outputs": [],
   "source": [
    "from tensorflow.keras.callbacks import ReduceLROnPlateau\n",
    "lr_scheduler = ReduceLROnPlateau(monitor='val_loss', factor=0.5, patience=3)"
   ]
  },
  {
   "cell_type": "code",
   "execution_count": 206,
   "id": "fe2cbca4",
   "metadata": {},
   "outputs": [],
   "source": [
    "\n",
    "# Early stopping\n",
    "early_stop = EarlyStopping(monitor='val_loss', patience=5, restore_best_weights=True)\n"
   ]
  },
  {
   "cell_type": "code",
   "execution_count": 207,
   "id": "6ccfc47a",
   "metadata": {},
   "outputs": [
    {
     "name": "stdout",
     "output_type": "stream",
     "text": [
      "Epoch 1/30\n",
      "56/56 [==============================] - 8s 139ms/step - loss: 2.3228 - accuracy: 0.4236 - val_loss: 2.6344 - val_accuracy: 0.1565 - lr: 3.0000e-04\n",
      "Epoch 2/30\n",
      "56/56 [==============================] - 6s 114ms/step - loss: 1.3097 - accuracy: 0.5260 - val_loss: 3.2772 - val_accuracy: 0.1910 - lr: 3.0000e-04\n",
      "Epoch 3/30\n",
      "56/56 [==============================] - 6s 115ms/step - loss: 1.2428 - accuracy: 0.5510 - val_loss: 2.4634 - val_accuracy: 0.2918 - lr: 3.0000e-04\n",
      "Epoch 4/30\n",
      "56/56 [==============================] - 7s 116ms/step - loss: 1.1176 - accuracy: 0.5940 - val_loss: 2.5458 - val_accuracy: 0.2069 - lr: 3.0000e-04\n",
      "Epoch 5/30\n",
      "56/56 [==============================] - 7s 116ms/step - loss: 1.0858 - accuracy: 0.6138 - val_loss: 2.3086 - val_accuracy: 0.2812 - lr: 3.0000e-04\n",
      "Epoch 6/30\n",
      "56/56 [==============================] - 7s 116ms/step - loss: 1.0627 - accuracy: 0.6166 - val_loss: 1.7551 - val_accuracy: 0.2971 - lr: 3.0000e-04\n",
      "Epoch 7/30\n",
      "56/56 [==============================] - 6s 115ms/step - loss: 1.0343 - accuracy: 0.6297 - val_loss: 1.5869 - val_accuracy: 0.4111 - lr: 3.0000e-04\n",
      "Epoch 8/30\n",
      "56/56 [==============================] - 7s 116ms/step - loss: 1.0011 - accuracy: 0.6642 - val_loss: 1.5709 - val_accuracy: 0.4085 - lr: 3.0000e-04\n",
      "Epoch 9/30\n",
      "56/56 [==============================] - 6s 115ms/step - loss: 0.9231 - accuracy: 0.6619 - val_loss: 1.2103 - val_accuracy: 0.5411 - lr: 3.0000e-04\n",
      "Epoch 10/30\n",
      "56/56 [==============================] - 6s 115ms/step - loss: 0.8597 - accuracy: 0.6846 - val_loss: 1.1521 - val_accuracy: 0.6313 - lr: 3.0000e-04\n",
      "Epoch 11/30\n",
      "56/56 [==============================] - 6s 115ms/step - loss: 0.8504 - accuracy: 0.6959 - val_loss: 0.9448 - val_accuracy: 0.6419 - lr: 3.0000e-04\n",
      "Epoch 12/30\n",
      "56/56 [==============================] - 7s 116ms/step - loss: 0.7401 - accuracy: 0.7271 - val_loss: 1.1229 - val_accuracy: 0.6393 - lr: 3.0000e-04\n",
      "Epoch 13/30\n",
      "56/56 [==============================] - 7s 119ms/step - loss: 0.6715 - accuracy: 0.7446 - val_loss: 1.9351 - val_accuracy: 0.5623 - lr: 3.0000e-04\n",
      "Epoch 14/30\n",
      "56/56 [==============================] - 6s 114ms/step - loss: 0.7017 - accuracy: 0.7401 - val_loss: 1.3441 - val_accuracy: 0.6499 - lr: 3.0000e-04\n",
      "Epoch 15/30\n",
      "56/56 [==============================] - 7s 116ms/step - loss: 0.6392 - accuracy: 0.7616 - val_loss: 0.7445 - val_accuracy: 0.7454 - lr: 1.5000e-04\n",
      "Epoch 16/30\n",
      "56/56 [==============================] - 7s 116ms/step - loss: 0.5840 - accuracy: 0.7809 - val_loss: 0.9982 - val_accuracy: 0.6260 - lr: 1.5000e-04\n",
      "Epoch 17/30\n",
      "56/56 [==============================] - 6s 114ms/step - loss: 0.5400 - accuracy: 0.7928 - val_loss: 0.7062 - val_accuracy: 0.7798 - lr: 1.5000e-04\n",
      "Epoch 18/30\n",
      "56/56 [==============================] - 7s 117ms/step - loss: 0.4795 - accuracy: 0.8290 - val_loss: 1.2530 - val_accuracy: 0.6870 - lr: 1.5000e-04\n",
      "Epoch 19/30\n",
      "56/56 [==============================] - 7s 115ms/step - loss: 0.4866 - accuracy: 0.8233 - val_loss: 0.8125 - val_accuracy: 0.7427 - lr: 1.5000e-04\n",
      "Epoch 20/30\n",
      "56/56 [==============================] - 6s 115ms/step - loss: 0.4740 - accuracy: 0.8199 - val_loss: 0.6069 - val_accuracy: 0.7984 - lr: 1.5000e-04\n",
      "Epoch 21/30\n",
      "56/56 [==============================] - 7s 116ms/step - loss: 0.4287 - accuracy: 0.8369 - val_loss: 0.6233 - val_accuracy: 0.8223 - lr: 1.5000e-04\n",
      "Epoch 22/30\n",
      "56/56 [==============================] - 6s 115ms/step - loss: 0.4338 - accuracy: 0.8426 - val_loss: 0.8650 - val_accuracy: 0.7321 - lr: 1.5000e-04\n",
      "Epoch 23/30\n",
      "56/56 [==============================] - 7s 116ms/step - loss: 0.4302 - accuracy: 0.8386 - val_loss: 0.6642 - val_accuracy: 0.7878 - lr: 1.5000e-04\n",
      "Epoch 24/30\n",
      "56/56 [==============================] - 7s 116ms/step - loss: 0.3914 - accuracy: 0.8488 - val_loss: 0.6518 - val_accuracy: 0.7798 - lr: 7.5000e-05\n",
      "Epoch 25/30\n",
      "56/56 [==============================] - 7s 116ms/step - loss: 0.3101 - accuracy: 0.8856 - val_loss: 0.5833 - val_accuracy: 0.8117 - lr: 7.5000e-05\n",
      "Epoch 26/30\n",
      "56/56 [==============================] - 7s 115ms/step - loss: 0.3215 - accuracy: 0.8681 - val_loss: 0.5349 - val_accuracy: 0.8223 - lr: 7.5000e-05\n",
      "Epoch 27/30\n",
      "56/56 [==============================] - 6s 115ms/step - loss: 0.3174 - accuracy: 0.8686 - val_loss: 0.6265 - val_accuracy: 0.7958 - lr: 7.5000e-05\n",
      "Epoch 28/30\n",
      "56/56 [==============================] - 7s 116ms/step - loss: 0.3040 - accuracy: 0.8828 - val_loss: 0.6143 - val_accuracy: 0.8196 - lr: 7.5000e-05\n",
      "Epoch 29/30\n",
      "56/56 [==============================] - 6s 115ms/step - loss: 0.2977 - accuracy: 0.8907 - val_loss: 0.5652 - val_accuracy: 0.8462 - lr: 7.5000e-05\n",
      "Epoch 30/30\n",
      "56/56 [==============================] - 6s 115ms/step - loss: 0.2920 - accuracy: 0.8862 - val_loss: 0.6083 - val_accuracy: 0.8249 - lr: 3.7500e-05\n"
     ]
    },
    {
     "data": {
      "text/plain": [
       "<keras.callbacks.History at 0x148179b0970>"
      ]
     },
     "execution_count": 207,
     "metadata": {},
     "output_type": "execute_result"
    }
   ],
   "source": [
    "\n",
    "# Train model\n",
    "model.fit(\n",
    "    train_generator,\n",
    "    validation_data=val_generator,\n",
    "    epochs=30,\n",
    "    class_weight=class_weights_dict,\n",
    "    callbacks=[early_stop,lr_scheduler]\n",
    ")\n"
   ]
  },
  {
   "cell_type": "code",
   "execution_count": null,
   "id": "97ebb415",
   "metadata": {},
   "outputs": [
    {
     "name": "stdout",
     "output_type": "stream",
     "text": [
      "12/12 [==============================] - 0s 33ms/step - loss: 0.6083 - accuracy: 0.8249\n",
      "\n",
      "✅ Test Accuracy: 82.49%\n"
     ]
    }
   ],
   "source": [
    "\n",
    "# Evaluate model\n",
    "loss, acc = model.evaluate(val_generator)\n",
    "print(f\"\\n✅ Test Accuracy: {acc*100:.2f}%\")\n"
   ]
  },
  {
   "cell_type": "code",
   "execution_count": 209,
   "id": "610e3af3",
   "metadata": {},
   "outputs": [],
   "source": [
    "\n",
    "# Predict and analyze\n",
    "y_true = val_generator.classes\n",
    "y_pred = model.predict(val_generator)\n",
    "y_pred_classes = np.argmax(y_pred, axis=1)\n"
   ]
  },
  {
   "cell_type": "code",
   "execution_count": null,
   "id": "3cd7a54e",
   "metadata": {},
   "outputs": [
    {
     "name": "stdout",
     "output_type": "stream",
     "text": [
      "\n",
      "📊 Classification Report:\n",
      "              precision    recall  f1-score   support\n",
      "\n",
      "   cardboard       0.92      0.92      0.92        60\n",
      "       glass       0.82      0.71      0.76        75\n",
      "       metal       0.84      0.85      0.85        61\n",
      "       paper       0.84      0.91      0.88        89\n",
      "     plastic       0.82      0.75      0.78        72\n",
      "       trash       0.57      0.80      0.67        20\n",
      "\n",
      "    accuracy                           0.82       377\n",
      "   macro avg       0.80      0.82      0.81       377\n",
      "weighted avg       0.83      0.82      0.82       377\n",
      "\n"
     ]
    }
   ],
   "source": [
    "\n",
    "# Classification report\n",
    "print(\"Classification Report:\")\n",
    "print(classification_report(y_true, y_pred_classes, target_names=list(val_generator.class_indices.keys())))\n"
   ]
  },
  {
   "cell_type": "code",
   "execution_count": 211,
   "id": "45a9d51a",
   "metadata": {},
   "outputs": [
    {
     "data": {
      "image/png": "[encoded data removed]",
      "text/plain": [
       "<Figure size 800x600 with 2 Axes>"
      ]
     },
     "metadata": {},
     "output_type": "display_data"
    }
   ],
   "source": [
    "\n",
    "# Confusion matrix\n",
    "cm = confusion_matrix(y_true, y_pred_classes)\n",
    "plt.figure(figsize=(8,6))\n",
    "sns.heatmap(cm, annot=True, fmt='d', cmap='Blues',\n",
    "            xticklabels=val_generator.class_indices.keys(),\n",
    "            yticklabels=val_generator.class_indices.keys())\n",
    "plt.xlabel('Predicted')\n",
    "plt.ylabel('True')\n",
    "plt.title('Confusion Matrix')\n",
    "plt.tight_layout()\n",
    "plt.show()"
   ]
  }
 ],
 "metadata": {
  "kernelspec": {
   "display_name": "gpu_free",
   "language": "python",
   "name": "gpu_free"
  },
  "language_info": {
   "codemirror_mode": {
    "name": "ipython",
    "version": 3
   },
   "file_extension": ".py",
   "mimetype": "text/x-python",
   "name": "python",
   "nbconvert_exporter": "python",
   "pygments_lexer": "ipython3",
   "version": "3.11.2"
  }
 },
 "nbformat": 4,
 "nbformat_minor": 5
}
