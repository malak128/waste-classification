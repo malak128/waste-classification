{
 "cells": [
  {
   "cell_type": "code",
   "execution_count": 1,
   "id": "97ce5daa",
   "metadata": {},
   "outputs": [
    {
     "name": "stderr",
     "output_type": "stream",
     "text": [
      "c:\\Users\\Begad\\anaconda3\\envs\\tf27\\lib\\site-packages\\tensorflow_addons\\utils\\tfa_eol_msg.py:23: UserWarning: \n",
      "\n",
      "TensorFlow Addons (TFA) has ended development and introduction of new features.\n",
      "TFA has entered a minimal maintenance and release mode until a planned end of life in May 2024.\n",
      "Please modify downstream libraries to take dependencies from other repositories in our TensorFlow community (e.g. Keras, Keras-CV, and Keras-NLP). \n",
      "\n",
      "For more information see: https://github.com/tensorflow/addons/issues/2807 \n",
      "\n",
      "  warnings.warn(\n",
      "c:\\Users\\Begad\\anaconda3\\envs\\tf27\\lib\\site-packages\\tensorflow_addons\\utils\\ensure_tf_install.py:53: UserWarning: Tensorflow Addons supports using Python ops for all Tensorflow versions above or equal to 2.11.0 and strictly below 2.14.0 (nightly versions are not supported). \n",
      " The versions of TensorFlow you are currently using is 2.7.0 and is not supported. \n",
      "Some things might work, some things might not.\n",
      "If you were to encounter a bug, do not file an issue.\n",
      "If you want to make sure you're using a tested and supported configuration, either change the TensorFlow version or the TensorFlow Addons's version. \n",
      "You can find the compatibility matrix in TensorFlow Addon's readme:\n",
      "https://github.com/tensorflow/addons\n",
      "  warnings.warn(\n",
      "c:\\Users\\Begad\\anaconda3\\envs\\tf27\\lib\\site-packages\\tqdm\\auto.py:21: TqdmWarning: IProgress not found. Please update jupyter and ipywidgets. See https://ipywidgets.readthedocs.io/en/stable/user_install.html\n",
      "  from .autonotebook import tqdm as notebook_tqdm\n"
     ]
    }
   ],
   "source": [
    "import os\n",
    "import numpy as np\n",
    "import tensorflow as tf\n",
    "import tensorflow_hub as hub\n",
    "import tensorflow_addons as tfa\n",
    "from tensorflow.keras.preprocessing.image import load_img, img_to_array\n",
    "from tensorflow.keras.utils import to_categorical\n",
    "from tensorflow.keras.models import Model\n",
    "from tensorflow.keras.layers import Input, Dense, GlobalAveragePooling2D, Concatenate\n",
    "from tensorflow.keras.applications import ResNet50\n",
    "from tensorflow.keras.optimizers import Adam\n",
    "from sklearn.model_selection import train_test_split\n",
    "from sklearn.utils.class_weight import compute_class_weight\n",
    "import kagglehub\n",
    "import matplotlib.pyplot as plt\n",
    "import seaborn as sns\n",
    "from sklearn.metrics import classification_report, confusion_matrix\n"
   ]
  },
  {
   "cell_type": "code",
   "execution_count": null,
   "id": "55cdc601",
   "metadata": {},
   "outputs": [
    {
     "name": "stdout",
     "output_type": "stream",
     "text": [
      "Warning: Looks like you're using an outdated `kagglehub` version, please consider updating (latest version: 0.3.13)\n"
     ]
    }
   ],
   "source": [
    "#Download Dataset from KaggleHub\n",
    "\n",
    "path = kagglehub.dataset_download(\"asdasdasasdas/garbage-classification\")\n",
    "dataset_path = os.path.join(path, \"Garbage classification\", \"Garbage classification\")\n"
   ]
  },
  {
   "cell_type": "code",
   "execution_count": null,
   "id": "bd570c06",
   "metadata": {},
   "outputs": [],
   "source": [
    "#Load and Preprocess Images\n",
    "\n",
    "img_size = (256, 256)\n",
    "X, y, text_descriptions = [], [], []\n",
    "classes = sorted(os.listdir(dataset_path))\n",
    "class_to_idx = {cls: idx for idx, cls in enumerate(classes)}\n",
    "\n",
    "def center_crop(img_array, target_size=(224, 224)):\n",
    "    crop = tf.image.central_crop(img_array, central_fraction=224/256)\n",
    "    return tf.image.resize(crop, target_size)\n",
    "\n",
    "for cls in classes:\n",
    "    class_dir = os.path.join(dataset_path, cls)\n",
    "    for img_name in os.listdir(class_dir):\n",
    "        img_path = os.path.join(class_dir, img_name)\n",
    "        try:\n",
    "            img = load_img(img_path, target_size=img_size)\n",
    "            img_array = img_to_array(img)\n",
    "            img_array = center_crop(img_array)\n",
    "            img_array = tf.keras.applications.resnet50.preprocess_input(img_array)\n",
    "            X.append(img_array)\n",
    "            y.append(class_to_idx[cls])\n",
    "\n",
    "            # Augment text descriptions\n",
    "            if cls == \"trash\":\n",
    "                desc = np.random.choice([\n",
    "                    \"dirty waste item\", \"non-recyclable garbage\", \"mixed trash material\"\n",
    "                ])\n",
    "            elif cls == \"plastic\":\n",
    "                desc = np.random.choice([\n",
    "                    \"plastic bottle\", \"PET container\", \"transparent plastic waste\"\n",
    "                ])\n",
    "            else:\n",
    "                desc = cls.replace(\"_\", \" \")\n",
    "            text_descriptions.append(desc)\n",
    "        except Exception as e:\n",
    "            print(f\"Error loading {img_path}: {e}\")\n",
    "\n",
    "X = np.array(X)\n",
    "y = np.array(y)\n",
    "y_encoded = to_categorical(y, num_classes=len(classes))\n",
    "text_descriptions = np.array(text_descriptions)\n"
   ]
  },
  {
   "cell_type": "code",
   "execution_count": null,
   "id": "b2147ec9",
   "metadata": {},
   "outputs": [],
   "source": [
    "#Train-Test Split\n",
    "\n",
    "X_train, X_val, y_train, y_val, text_train, text_val = train_test_split(\n",
    "    X, y_encoded, text_descriptions, test_size=0.2, stratify=y, random_state=42\n",
    ")\n"
   ]
  },
  {
   "cell_type": "code",
   "execution_count": null,
   "id": "ba1c4426",
   "metadata": {},
   "outputs": [],
   "source": [
    "#Compute Class Weights\n",
    "\n",
    "y_labels = np.argmax(y_train, axis=1)\n",
    "class_weights = compute_class_weight('balanced', classes=np.unique(y_labels), y=y_labels)\n",
    "class_weights_dict = dict(enumerate(class_weights))\n"
   ]
  },
  {
   "cell_type": "code",
   "execution_count": null,
   "id": "d0e1c14d",
   "metadata": {},
   "outputs": [],
   "source": [
    "from tensorflow.keras.layers import Embedding, GlobalAveragePooling1D, TextVectorization\n",
    "\n",
    "#Build Multimodal Fusion Model\n",
    "\n",
    "\n",
    "# Image input\n",
    "image_input = Input(shape=(224, 224, 3), name=\"image_input\")\n",
    "resnet = ResNet50(weights='imagenet', include_top=False, input_tensor=image_input)\n",
    "for layer in resnet.layers[:-30]:\n",
    "    layer.trainable = False\n",
    "resnet_feat = GlobalAveragePooling2D()(resnet.output)\n",
    "\n",
    "# Text input using tokenized sequence\n",
    "text_input = Input(shape=(1,), dtype=tf.string, name=\"text_input\")\n",
    "\n",
    "# Text vectorization\n",
    "vectorizer = TextVectorization(max_tokens=1000, output_sequence_length=10)\n",
    "vectorizer.adapt([cls.replace(\"_\", \" \") for cls in classes])  # Fit on class names\n",
    "\n",
    "x_text = vectorizer(text_input)  # Tokenized sequence\n",
    "x_text = Embedding(input_dim=1000, output_dim=64)(x_text)  # Learnable embeddings\n",
    "text_feat = GlobalAveragePooling1D()(x_text)  # Aggregate sequence\n",
    "\n",
    "# Fusion\n",
    "fused = Concatenate()([resnet_feat, text_feat])\n",
    "output = Dense(len(classes), activation='softmax')(fused)\n",
    "\n",
    "# Compile model\n",
    "model = Model(inputs=[image_input, text_input], outputs=output)\n",
    "model.compile(optimizer=Adam(1e-4), loss=tfa.losses.SigmoidFocalCrossEntropy(), metrics=['accuracy'])"
   ]
  },
  {
   "cell_type": "code",
   "execution_count": null,
   "id": "b05dc416",
   "metadata": {},
   "outputs": [
    {
     "name": "stdout",
     "output_type": "stream",
     "text": [
      "Epoch 1/20\n",
      "64/64 [==============================] - 20s 157ms/step - loss: 0.1631 - accuracy: 0.7199 - val_loss: 0.1730 - val_accuracy: 0.8340\n",
      "Epoch 2/20\n",
      "64/64 [==============================] - 8s 124ms/step - loss: 0.0221 - accuracy: 0.9664 - val_loss: 0.1192 - val_accuracy: 0.8577\n",
      "Epoch 3/20\n",
      "64/64 [==============================] - 8s 124ms/step - loss: 0.0052 - accuracy: 0.9941 - val_loss: 0.0725 - val_accuracy: 0.8874\n",
      "Epoch 4/20\n",
      "64/64 [==============================] - 8s 124ms/step - loss: 0.0029 - accuracy: 0.9980 - val_loss: 0.0720 - val_accuracy: 0.9012\n",
      "Epoch 5/20\n",
      "64/64 [==============================] - 8s 124ms/step - loss: 0.0016 - accuracy: 0.9985 - val_loss: 0.0668 - val_accuracy: 0.9091\n",
      "Epoch 6/20\n",
      "64/64 [==============================] - 8s 124ms/step - loss: 0.0013 - accuracy: 0.9985 - val_loss: 0.0688 - val_accuracy: 0.9091\n",
      "Epoch 7/20\n",
      "64/64 [==============================] - 8s 124ms/step - loss: 7.1390e-04 - accuracy: 0.9990 - val_loss: 0.0687 - val_accuracy: 0.9150\n",
      "Epoch 8/20\n",
      "64/64 [==============================] - 8s 124ms/step - loss: 7.9895e-04 - accuracy: 0.9985 - val_loss: 0.0730 - val_accuracy: 0.9170\n",
      "Epoch 9/20\n",
      "64/64 [==============================] - 8s 124ms/step - loss: 0.0010 - accuracy: 0.9985 - val_loss: 0.0758 - val_accuracy: 0.9190\n",
      "Epoch 10/20\n",
      "64/64 [==============================] - 8s 124ms/step - loss: 9.4793e-04 - accuracy: 0.9985 - val_loss: 0.0755 - val_accuracy: 0.9170\n",
      "Epoch 11/20\n",
      "64/64 [==============================] - 8s 124ms/step - loss: 6.5107e-04 - accuracy: 0.9985 - val_loss: 0.0735 - val_accuracy: 0.9190\n",
      "Epoch 12/20\n",
      "64/64 [==============================] - 8s 124ms/step - loss: 5.8983e-04 - accuracy: 0.9980 - val_loss: 0.0744 - val_accuracy: 0.9190\n",
      "Epoch 13/20\n",
      "64/64 [==============================] - 8s 124ms/step - loss: 5.5539e-04 - accuracy: 0.9985 - val_loss: 0.0742 - val_accuracy: 0.9190\n",
      "Epoch 14/20\n",
      "64/64 [==============================] - 8s 124ms/step - loss: 6.0641e-04 - accuracy: 0.9980 - val_loss: 0.0744 - val_accuracy: 0.9190\n",
      "Epoch 15/20\n",
      "64/64 [==============================] - 8s 124ms/step - loss: 6.3947e-04 - accuracy: 0.9985 - val_loss: 0.0752 - val_accuracy: 0.9111\n",
      "Epoch 16/20\n",
      "64/64 [==============================] - 8s 125ms/step - loss: 5.3190e-04 - accuracy: 0.9980 - val_loss: 0.0770 - val_accuracy: 0.9170\n",
      "Epoch 17/20\n",
      "64/64 [==============================] - 8s 124ms/step - loss: 4.5971e-04 - accuracy: 0.9990 - val_loss: 0.0776 - val_accuracy: 0.9170\n",
      "Epoch 18/20\n",
      "64/64 [==============================] - 8s 124ms/step - loss: 5.3294e-04 - accuracy: 0.9980 - val_loss: 0.0806 - val_accuracy: 0.9190\n",
      "Epoch 19/20\n",
      "64/64 [==============================] - 8s 125ms/step - loss: 5.8152e-04 - accuracy: 0.9980 - val_loss: 0.0809 - val_accuracy: 0.9190\n",
      "Epoch 20/20\n",
      "64/64 [==============================] - 8s 124ms/step - loss: 6.2135e-04 - accuracy: 0.9985 - val_loss: 0.0810 - val_accuracy: 0.9170\n"
     ]
    }
   ],
   "source": [
    "# Train Model\n",
    "history = model.fit(\n",
    "    {\"image_input\": X_train, \"text_input\": text_train},\n",
    "    y_train,\n",
    "    validation_data=({\"image_input\": X_val, \"text_input\": text_val}, y_val),\n",
    "    epochs=20,\n",
    "    batch_size=32,\n",
    "    class_weight=class_weights_dict\n",
    ")\n"
   ]
  },
  {
   "cell_type": "code",
   "execution_count": null,
   "id": "0c2c7313",
   "metadata": {},
   "outputs": [
    {
     "name": "stdout",
     "output_type": "stream",
     "text": [
      "16/16 [==============================] - 1s 78ms/step - loss: 0.0810 - accuracy: 0.9170\n",
      "\n",
      "✅ Validation Accuracy: 0.9170\n",
      "              precision    recall  f1-score   support\n",
      "\n",
      "   cardboard       0.96      0.95      0.96        81\n",
      "       glass       0.90      0.91      0.91       100\n",
      "       metal       0.85      0.95      0.90        82\n",
      "       paper       0.94      0.97      0.95       119\n",
      "     plastic       0.94      0.86      0.90        97\n",
      "       trash       0.87      0.74      0.80        27\n",
      "\n",
      "    accuracy                           0.92       506\n",
      "   macro avg       0.91      0.90      0.90       506\n",
      "weighted avg       0.92      0.92      0.92       506\n",
      "\n"
     ]
    },
    {
     "data": {
      "image/png": "[encoded data removed]",
      "text/plain": [
       "<Figure size 800x600 with 2 Axes>"
      ]
     },
     "metadata": {},
     "output_type": "display_data"
    }
   ],
   "source": [
    "#Evaluate Model\n",
    "\n",
    "loss, acc = model.evaluate({\"image_input\": X_val, \"text_input\": text_val}, y_val)\n",
    "print(f\"Validation Accuracy: {acc:.4f}\")\n",
    "\n",
    "y_pred = model.predict({\"image_input\": X_val, \"text_input\": text_val})\n",
    "y_pred_classes = np.argmax(y_pred, axis=1)\n",
    "y_true_classes = np.argmax(y_val, axis=1)\n",
    "\n",
    "print(classification_report(y_true_classes, y_pred_classes, target_names=classes))\n",
    "\n",
    "# Confusion Matrix\n",
    "cm = confusion_matrix(y_true_classes, y_pred_classes)\n",
    "plt.figure(figsize=(8,6))\n",
    "sns.heatmap(cm, annot=True, fmt='d', xticklabels=classes, yticklabels=classes, cmap='Blues')\n",
    "plt.title(\"Confusion Matrix\")\n",
    "plt.xlabel(\"Predicted\")\n",
    "plt.ylabel(\"True\")\n",
    "plt.show()"
   ]
  },
  {
   "cell_type": "code",
   "execution_count": null,
   "id": "0d6806cd",
   "metadata": {},
   "outputs": [
    {
     "name": "stdout",
     "output_type": "stream",
     "text": [
      "INFO:tensorflow:Assets written to: multimodal_resnet_text\\assets\n",
      "✅ Multimodal model saved in TensorFlow format.\n"
     ]
    },
    {
     "name": "stderr",
     "output_type": "stream",
     "text": [
      "c:\\Users\\Begad\\anaconda3\\envs\\tf27\\lib\\site-packages\\keras\\engine\\functional.py:1410: CustomMaskWarning: Custom mask layers require a config and must override get_config. When loading, the custom mask layer must be passed to the custom_objects argument.\n",
      "  layer_config = serialize_layer_fn(layer)\n",
      "c:\\Users\\Begad\\anaconda3\\envs\\tf27\\lib\\site-packages\\keras\\saving\\saved_model\\layer_serialization.py:112: CustomMaskWarning: Custom mask layers require a config and must override get_config. When loading, the custom mask layer must be passed to the custom_objects argument.\n",
      "  return generic_utils.serialize_keras_object(obj)\n"
     ]
    }
   ],
   "source": [
    "# # Save in TensorFlow format\n",
    "# model.save(\"multimodal_resnet_text\", save_format=\"tf\")\n",
    "# # print(\"Multimodal model saved in TensorFlow format.\")\n"
   ]
  }
 ],
 "metadata": {
  "kernelspec": {
   "display_name": "tf27",
   "language": "python",
   "name": "python3"
  },
  "language_info": {
   "codemirror_mode": {
    "name": "ipython",
    "version": 3
   },
   "file_extension": ".py",
   "mimetype": "text/x-python",
   "name": "python",
   "nbconvert_exporter": "python",
   "pygments_lexer": "ipython3",
   "version": "3.8.20"
  }
 },
 "nbformat": 4,
 "nbformat_minor": 5
}
